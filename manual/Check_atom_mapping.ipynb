{
 "cells": [
  {
   "cell_type": "code",
   "execution_count": null,
   "id": "00986a37",
   "metadata": {},
   "outputs": [],
   "source": [
    "from IPython.display import clear_output, display\n",
    "from PIL import Image\n",
    "import json\n",
    "from utils import *\n",
    "\n",
    "chemist_name = get_user_name()\n",
    "dataset = 'USPTO_50K'\n",
    "\n",
    "samp_iter = 1\n",
    "sampled_data = load_sampled_data(dataset, chemist_name, samp_iter)\n",
    "accepted_templates, rejected_templates = load_fixed_templates(dataset, chemist_name, samp_iter)\n",
    "remapped_rxn_dict = {}\n",
    "remapped_temp_dict = {}\n",
    "\n",
    "print ('Chemist Name: %s, Correcting %d reaction data' % (chemist_name, len(sampled_data)))\n",
    "print ('Loaded %d templates' % len(accepted_templates))"
   ]
  },
  {
   "cell_type": "code",
   "execution_count": null,
   "id": "a510d947",
   "metadata": {},
   "outputs": [],
   "source": [
    "def clean_map(rxn):\n",
    "    r_mol, p_mol = [Chem.MolFromSmiles(s) for s in rxn.split('>>')]\n",
    "    p_maps = [atom.GetAtomMapNum() for atom in p_mol.GetAtoms()]\n",
    "    [atom.SetAtomMapNum(0) for atom in r_mol.GetAtoms() if atom.GetAtomMapNum() not in p_maps]\n",
    "    return '>>'.join([Chem.MolToSmiles(m) for m in [r_mol, p_mol]])"
   ]
  },
  {
   "cell_type": "code",
   "execution_count": null,
   "id": "142ec8d5",
   "metadata": {},
   "outputs": [],
   "source": [
    "## Manually check AAM\n",
    "# 0: remap, 1: accept, 2: reject reaction\n",
    "for i, (idx, rxn, temp, freq) in enumerate(zip(sampled_data['data_idx'], sampled_data['mapped_rxn'], sampled_data['template'], sampled_data['freq'])): # remap: reject, 1: accept, 2: reject\n",
    "    if idx in remapped_rxn_dict:\n",
    "        continue\n",
    "    rxn = clean_map(rxn)\n",
    "    r, p = rxn.split('>>')\n",
    "    temp = extract_from_reaction(rxn)\n",
    "    answer = '1'\n",
    "    \n",
    "    while True:\n",
    "        if temp in accepted_templates: answer = '1'; break\n",
    "        print (rxn)\n",
    "        print ('Reactant: \\n', r); print ('Template: \\n', temp); print ('Frequency: \\n', freq); \n",
    "        save_reaction(rxn)\n",
    "        display(Image.open('mol.png'))\n",
    "        answer = input('Correct (%d/%d)?' % (i, len(sampled_data))) \n",
    "        if answer in ['1', '2']: \n",
    "            break\n",
    "        remap = input('Remap (%d/%d)...' % (i, len(sampled_data)))\n",
    "        if not is_valid_mapping(remap): \n",
    "            print ('Not valid mapping!'); continue\n",
    "        else: \n",
    "            r = remap\n",
    "        rxn = '%s>>%s' % (r, p)\n",
    "        temp = extract_from_reaction(rxn)\n",
    "     \n",
    "    save_reaction(rxn)\n",
    "    display(Image.open('mol.png'))\n",
    "    if answer == '1':\n",
    "        remapped_rxn_dict[idx] = rxn\n",
    "        remapped_temp_dict[idx] = temp\n",
    "        accepted_templates.add(temp)\n",
    "    \n",
    "    clear_output(wait=True)\n",
    "    \n",
    "print ('Correction finished. Mapped %d reactions.' % len(remapped_rxn_dict))"
   ]
  },
  {
   "cell_type": "code",
   "execution_count": null,
   "id": "a4d89db6",
   "metadata": {},
   "outputs": [],
   "source": [
    "# Sort the reaction idex before exporting\n",
    "remapped_idxs, remapped_rxns, remapped_temps = [], [], []\n",
    "for idx in sorted(list(remapped_temp_dict.keys())):\n",
    "    remapped_idxs.append(idx)\n",
    "    remapped_rxns.append(remapped_rxn_dict[idx])\n",
    "    remapped_temps.append(remapped_temp_dict[idx])\n",
    "df = pd.DataFrame({'data_idx': remapped_idxs, 'mapped_rxn': remapped_rxns, 'template': remapped_temps})\n",
    "save_fixed_data(df, dataset, chemist_name, samp_iter)"
   ]
  }
 ],
 "metadata": {
  "kernelspec": {
   "display_name": "Python 3 (ipykernel)",
   "language": "python",
   "name": "python3"
  },
  "language_info": {
   "codemirror_mode": {
    "name": "ipython",
    "version": 3
   },
   "file_extension": ".py",
   "mimetype": "text/x-python",
   "name": "python",
   "nbconvert_exporter": "python",
   "pygments_lexer": "ipython3",
   "version": "3.9.7"
  }
 },
 "nbformat": 4,
 "nbformat_minor": 5
}
